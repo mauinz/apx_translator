{
 "cells": [
  {
   "cell_type": "code",
   "execution_count": 20,
   "metadata": {
    "collapsed": true
   },
   "outputs": [],
   "source": [
    "import string\n",
    "FILE = 'sample.apx'"
   ]
  },
  {
   "cell_type": "code",
   "execution_count": 77,
   "metadata": {
    "collapsed": false
   },
   "outputs": [],
   "source": [
    "def read_file(file_name):\n",
    "    return [line.rstrip('\\n') for line in open(file_name)]\n",
    "\n",
    "def split(apx_list):\n",
    "    arg = [strip_arg(x) for x in apx_list if 'arg' in x]\n",
    "    att = [strip_att(x) for x in apx_list if 'att' in x]\n",
    "    return arg, att\n",
    "\n",
    "def strip_arg(arg):\n",
    "    return arg.replace('arg(', '').replace(').','').upper()\n",
    "\n",
    "def strip_att(att):\n",
    "    return att.replace('att(', '').replace(').','').replace(',','|->').upper()\n",
    "\n",
    "def write_file(arguments, attacks, file_name='temp.txt'):\n",
    "    f = open(file_name, 'wb')\n",
    "    f.write('ARGUMENTS={')\n",
    "    for i, arg in enumerate(arguments):\n",
    "        f.write(arg)\n",
    "        if i != len(arguments) - 1:\n",
    "            f.write(',')\n",
    "    f.write('}\\n')\n",
    "    f.write('ATTACKS={')\n",
    "    for i, att in enumerate(attacks):\n",
    "        f.write(att)\n",
    "        if i != len(attacks) - 1:\n",
    "            f.write(',')\n",
    "    f.write('}\\n')\n",
    "    f.close()"
   ]
  },
  {
   "cell_type": "code",
   "execution_count": 78,
   "metadata": {
    "collapsed": false
   },
   "outputs": [],
   "source": [
    "apx = read_file(FILE)\n",
    "arg, att = split(apx)\n",
    "write_file(arg,att)"
   ]
  }
 ],
 "metadata": {
  "kernelspec": {
   "display_name": "Python 2",
   "language": "python",
   "name": "python2"
  },
  "language_info": {
   "codemirror_mode": {
    "name": "ipython",
    "version": 2
   },
   "file_extension": ".py",
   "mimetype": "text/x-python",
   "name": "python",
   "nbconvert_exporter": "python",
   "pygments_lexer": "ipython2",
   "version": "2.7.6"
  }
 },
 "nbformat": 4,
 "nbformat_minor": 0
}
